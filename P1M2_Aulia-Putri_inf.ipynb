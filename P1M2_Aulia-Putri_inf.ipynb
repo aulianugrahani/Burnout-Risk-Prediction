{
 "cells": [
  {
   "cell_type": "markdown",
   "id": "bf53c016",
   "metadata": {},
   "source": [
    "# MODEL INFERENCE"
   ]
  },
  {
   "cell_type": "code",
   "execution_count": 3,
   "id": "ce34d558",
   "metadata": {},
   "outputs": [],
   "source": [
    "import pickle\n",
    "import json\n",
    "import pandas as pd\n"
   ]
  },
  {
   "cell_type": "code",
   "execution_count": 4,
   "id": "5495d3b0",
   "metadata": {},
   "outputs": [],
   "source": [
    "# Load the saved Gradient Boosting pipeline\n",
    "with open('model_pipeline_gb.pkl', 'rb') as model_file:\n",
    "    model = pickle.load(model_file)\n",
    "\n",
    "# Load the selected features used during training\n",
    "with open('selected_features.json', 'r') as features_file:\n",
    "    selected_features = json.load(features_file)\n"
   ]
  },
  {
   "cell_type": "code",
   "execution_count": 5,
   "id": "b2c557a4",
   "metadata": {},
   "outputs": [],
   "source": [
    "user_input = {\n",
    "    'Job_Role': 'Software Engineer',\n",
    "    'Industry': 'Technology',\n",
    "    'Years_of_Experience': 5,\n",
    "    'Work_Location': 'Remote',\n",
    "    'Number_of_Virtual_Meetings': 4,\n",
    "    'Work_Life_Balance_Rating': 3,\n",
    "    'Access_to_Mental_Health_Resources': 'Yes',\n",
    "    'Physical_Activity': 'Moderate',\n",
    "    'Social_Isolation_Rating': 2,\n",
    "    'Company_Support_for_Remote_Work': 'Yes'\n",
    "}\n"
   ]
  },
  {
   "cell_type": "code",
   "execution_count": 7,
   "id": "7e93f0f8",
   "metadata": {},
   "outputs": [],
   "source": [
    "new_data = pd.DataFrame([user_input])"
   ]
  },
  {
   "cell_type": "code",
   "execution_count": 8,
   "id": "c2ad932e",
   "metadata": {},
   "outputs": [],
   "source": [
    "prediction = model.predict(new_data)[0]\n",
    "probability = model.predict_proba(new_data)[0][1] "
   ]
  },
  {
   "cell_type": "code",
   "execution_count": 9,
   "id": "b894664f",
   "metadata": {},
   "outputs": [
    {
     "name": "stdout",
     "output_type": "stream",
     "text": [
      "Prediction: At Risk\n",
      "Burnout Risk Probability: 56.54 %\n"
     ]
    }
   ],
   "source": [
    "# --- Show results ---\n",
    "print(\"Prediction:\", \"At Risk\" if prediction == 1 else \"Not at Risk\")\n",
    "print(\"Burnout Risk Probability:\", round(probability * 100, 2), \"%\")"
   ]
  }
 ],
 "metadata": {
  "kernelspec": {
   "display_name": "base",
   "language": "python",
   "name": "python3"
  },
  "language_info": {
   "codemirror_mode": {
    "name": "ipython",
    "version": 3
   },
   "file_extension": ".py",
   "mimetype": "text/x-python",
   "name": "python",
   "nbconvert_exporter": "python",
   "pygments_lexer": "ipython3",
   "version": "3.12.7"
  }
 },
 "nbformat": 4,
 "nbformat_minor": 5
}
